{
 "cells": [
  {
   "cell_type": "code",
   "execution_count": 2,
   "metadata": {},
   "outputs": [
    {
     "name": "stderr",
     "output_type": "stream",
     "text": [
      "/home/yangjun/anaconda3/envs/secgpt2/lib/python3.8/site-packages/transformers/utils/generic.py:260: FutureWarning: `torch.utils._pytree._register_pytree_node` is deprecated. Please use `torch.utils._pytree.register_pytree_node` instead.\n",
      "  torch.utils._pytree._register_pytree_node(\n"
     ]
    }
   ],
   "source": [
    "import json\n",
    "import sys\n",
    "from threading import Thread\n",
    "from queue import Queue\n",
    "# unset all proxy settings\n",
    "\n",
    "\n",
    "\n",
    "#import gradio as gr\n",
    "import torch\n",
    "from peft import PeftModel\n",
    "from transformers import GenerationConfig, AutoTokenizer, AutoModelForCausalLM\n",
    "import time"
   ]
  },
  {
   "cell_type": "code",
   "execution_count": 4,
   "metadata": {},
   "outputs": [
    {
     "name": "stdout",
     "output_type": "stream",
     "text": [
      "Using device: auto\n"
     ]
    }
   ],
   "source": [
    "if torch.cuda.is_available():\n",
    "    device = \"auto\"\n",
    "else:\n",
    "    device = \"cpu\"\n",
    "\n",
    "print(\"Using device:\", device)"
   ]
  },
  {
   "cell_type": "code",
   "execution_count": null,
   "metadata": {},
   "outputs": [],
   "source": [
    "class TextIterStreamer:\n",
    "    def __init__(self, tokenizer, skip_prompt=True, skip_special_tokens=False):\n",
    "        self.tokenizer = tokenizer\n",
    "        self.skip_prompt = skip_prompt\n",
    "        self.skip_special_tokens = skip_special_tokens\n",
    "        self.tokens = []\n",
    "        self.text_queue = Queue()\n",
    "        # self.text_queue = []\n",
    "        self.next_tokens_are_prompt = True\n",
    "\n",
    "    def put(self, value):\n",
    "        if self.skip_prompt and self.next_tokens_are_prompt:\n",
    "            self.next_tokens_are_prompt = False\n",
    "        else:\n",
    "            if len(value.shape) > 1:\n",
    "                value = value[0]\n",
    "            self.tokens.extend(value.tolist())\n",
    "            word = self.tokenizer.decode(self.tokens, skip_special_tokens=self.skip_special_tokens)\n",
    "            # self.text_queue.append(word)\n",
    "            self.text_queue.put(word)\n",
    "\n",
    "    def end(self):\n",
    "        # self.text_queue.append(None)\n",
    "        self.text_queue.put(None)\n",
    "\n",
    "    def __iter__(self):\n",
    "        return self\n",
    "\n",
    "    def __next__(self):\n",
    "        value = self.text_queue.get()\n",
    "        if value is None:\n",
    "            raise StopIteration()\n",
    "        else:\n",
    "            return value"
   ]
  }
 ],
 "metadata": {
  "kernelspec": {
   "display_name": "secgpt2",
   "language": "python",
   "name": "python3"
  },
  "language_info": {
   "codemirror_mode": {
    "name": "ipython",
    "version": 3
   },
   "file_extension": ".py",
   "mimetype": "text/x-python",
   "name": "python",
   "nbconvert_exporter": "python",
   "pygments_lexer": "ipython3",
   "version": "3.8.20"
  }
 },
 "nbformat": 4,
 "nbformat_minor": 2
}
